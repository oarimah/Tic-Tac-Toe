{
  "nbformat": 4,
  "nbformat_minor": 0,
  "metadata": {
    "colab": {
      "name": "TicTacToe.ipynb",
      "provenance": [],
      "collapsed_sections": []
    },
    "kernelspec": {
      "name": "python3",
      "display_name": "Python 3"
    },
    "language_info": {
      "name": "python"
    }
  },
  "cells": [
    {
      "cell_type": "code",
      "execution_count": 1,
      "metadata": {
        "id": "sAy4ly8Zv7XF"
      },
      "outputs": [],
      "source": [
        "from IPython.display import clear_output\n",
        "\n",
        "def display_board(board):\n",
        "    clear_output()\n",
        "    print('   |   |')\n",
        "    print(' ' + board[7] + ' | ' + board[8] + ' | ' + board[9])\n",
        "    print('   |   |')\n",
        "    print('---|---|---')\n",
        "    print('   |   |')\n",
        "    print(' ' + board[4] + ' | ' + board[5] + ' | ' + board[6])\n",
        "    print('   |   |')\n",
        "    print('---|---|---')\n",
        "    print('   |   |')\n",
        "    print(' ' + board[1] + ' | ' + board[2] + ' | ' + board[3])\n",
        "    print('   |   |')\n"
      ]
    },
    {
      "cell_type": "code",
      "source": [
        "def player_input():\n",
        "    marker = ''\n",
        "    while not (marker == 'O' or marker == 'X'):\n",
        "        marker = input('Player 1: X or O? ').upper()\n",
        "        \n",
        "    if marker == 'X':\n",
        "        return ('X', 'O')\n",
        "    else:\n",
        "        return ('O', 'X')"
      ],
      "metadata": {
        "id": "sZmTeMi7wEhz"
      },
      "execution_count": 2,
      "outputs": []
    },
    {
      "cell_type": "code",
      "source": [
        "def place_marker(board, marker, position):\n",
        "    board[position] = marker"
      ],
      "metadata": {
        "id": "EyMAbEpPwLrC"
      },
      "execution_count": 3,
      "outputs": []
    },
    {
      "cell_type": "code",
      "source": [
        "def win_check(board, mark):\n",
        "    return ((board[7] == mark and board[8] == mark and board[9] == mark) or \n",
        "            (board[4] == mark and board[5] == mark and board[6] == mark) or \n",
        "            (board[1] == mark and board[2] == mark and board[3] == mark) or \n",
        "            (board[7] == mark and board[4] == mark and board[1] == mark) or\n",
        "            (board[8] == mark and board[5] == mark and board[2] == mark) or\n",
        "            (board[9] == mark and board[6] == mark and board[3] == mark) or\n",
        "            (board[7] == mark and board[5] == mark and board[3] == mark) or\n",
        "            (board[9] == mark and board[5] == mark and board[1] == mark))"
      ],
      "metadata": {
        "id": "ZzOIo4xrwPQW"
      },
      "execution_count": 4,
      "outputs": []
    },
    {
      "cell_type": "code",
      "source": [
        "import random\n",
        "\n",
        "def choose_first():\n",
        "    if random.randint(0,1) == 0:\n",
        "        return 'Player 1'\n",
        "    else:\n",
        "        return 'Player 2'"
      ],
      "metadata": {
        "id": "anz6vJFswT5O"
      },
      "execution_count": 5,
      "outputs": []
    },
    {
      "cell_type": "code",
      "source": [
        "def space_check(board, position):\n",
        "    return board[position] == ''"
      ],
      "metadata": {
        "id": "OXl3yZ1CwXrE"
      },
      "execution_count": 10,
      "outputs": []
    },
    {
      "cell_type": "code",
      "source": [
        "def full_board_check(board):\n",
        "    for i in range(1,10):\n",
        "        if space_check(board,i):\n",
        "            return False\n",
        "    return True"
      ],
      "metadata": {
        "id": "PlU_URDexdQr"
      },
      "execution_count": 11,
      "outputs": []
    },
    {
      "cell_type": "code",
      "source": [
        "def player_choice(board):\n",
        "    position = ' '\n",
        "    while position not in '1 2 3 4 5 6 7 8 9'.split() or not space_check(board, int(position)):\n",
        "        position = input('Choose your next position (1-9) ')\n",
        "    return int(position)"
      ],
      "metadata": {
        "id": "tGvAR2v3wjqZ"
      },
      "execution_count": 12,
      "outputs": []
    },
    {
      "cell_type": "code",
      "source": [
        "def replay():\n",
        "    return input('Do you want to play again? Enter Yes or No - ').lower().startswith('y')"
      ],
      "metadata": {
        "id": "PypXkCVIwnVi"
      },
      "execution_count": 13,
      "outputs": []
    },
    {
      "cell_type": "code",
      "source": [
        "print('Welcome to Tic Tac Toe!')\n",
        "\n",
        "while True:\n",
        "    theBoard = [' ']*10\n",
        "    player1_marker, player2_marker = player_input()\n",
        "    turn = choose_first()\n",
        "    print(turn + ' will go First')\n",
        "    \n",
        "    game_on = True\n",
        "    \n",
        "    while game_on:\n",
        "        if turn == 'Player 1':\n",
        "            display_board(theBoard)\n",
        "            position = player_choice(theBoard)\n",
        "            place_marker(theBoard, player1_marker, position)\n",
        "            \n",
        "            if win_check(theBoard, player1_marker):\n",
        "                display_board(theBoard)\n",
        "                print('Congratulations!!! \\nPlayer 1 WON the game.')\n",
        "                game_on = False\n",
        "            else:\n",
        "                if full_board_check(theBoard):\n",
        "                    display_board(theBoard)\n",
        "                    print('The game is a DRAW!')\n",
        "                    break\n",
        "                else:\n",
        "                    turn = 'Player 2'\n",
        "        else:\n",
        "            display_board(theBoard)\n",
        "            position = player_choice(theBoard)\n",
        "            place_marker(theBoard, player2_marker, position)\n",
        "            \n",
        "            if win_check(theBoard, player2_marker):\n",
        "                display_board(theBoard)\n",
        "                print('Congratulations!!! \\nPlayer 2 WON the game.')\n",
        "                game_on = False\n",
        "            else:\n",
        "                if full_board_check(theBoard):\n",
        "                    display_board(theBoard)\n",
        "                    print('The game is a DRAW!')\n",
        "                    break\n",
        "                else:\n",
        "                    turn = 'Player 1'\n",
        "    if not replay():\n",
        "        break"
      ],
      "metadata": {
        "id": "QFQGTZ7Nwqv2"
      },
      "execution_count": null,
      "outputs": []
    }
  ]
}